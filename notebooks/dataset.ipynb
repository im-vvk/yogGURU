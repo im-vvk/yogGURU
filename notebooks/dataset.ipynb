{
 "metadata": {
  "language_info": {
   "codemirror_mode": {
    "name": "ipython",
    "version": 3
   },
   "file_extension": ".py",
   "mimetype": "text/x-python",
   "name": "python",
   "nbconvert_exporter": "python",
   "pygments_lexer": "ipython3",
   "version": "3.8.5-final"
  },
  "orig_nbformat": 2,
  "kernelspec": {
   "name": "python385jvsc74a57bd017d519cd7b2137489e7f6d58ab7c9e086eaf73f702abf9bb059dfcc452bdee66",
   "display_name": "Python 3.8.5 64-bit (conda)"
  }
 },
 "nbformat": 4,
 "nbformat_minor": 2,
 "cells": [
  {
   "cell_type": "code",
   "execution_count": 2,
   "metadata": {},
   "outputs": [],
   "source": [
    "import pandas as pd\n",
    "import requests\n",
    "from tqdm.notebook import tqdm"
   ]
  },
  {
   "cell_type": "code",
   "execution_count": 2,
   "metadata": {},
   "outputs": [
    {
     "output_type": "execute_result",
     "data": {
      "text/plain": [
       "                                  0  \\\n",
       "0  Bow_Pose_or_Dhanurasana_/686.jpg   \n",
       "1  Bow_Pose_or_Dhanurasana_/685.jpg   \n",
       "2  Bow_Pose_or_Dhanurasana_/684.jpg   \n",
       "3  Bow_Pose_or_Dhanurasana_/682.jpg   \n",
       "4  Bow_Pose_or_Dhanurasana_/681.jpg   \n",
       "\n",
       "                                                   1  \n",
       "0  https://chevaun.com/wp-content/uploads/2017/10...  \n",
       "1  http://bananabloom.com/wp-content/uploads/2016...  \n",
       "2  https://www.airheadsup.com/assets/images/Kelli...  \n",
       "3      http://mugup.info/appimg/Yoga/Dhanurasana.jpg  \n",
       "4  https://images.freeart.com/comp/art-print/fa15...  "
      ],
      "text/html": "<div>\n<style scoped>\n    .dataframe tbody tr th:only-of-type {\n        vertical-align: middle;\n    }\n\n    .dataframe tbody tr th {\n        vertical-align: top;\n    }\n\n    .dataframe thead th {\n        text-align: right;\n    }\n</style>\n<table border=\"1\" class=\"dataframe\">\n  <thead>\n    <tr style=\"text-align: right;\">\n      <th></th>\n      <th>0</th>\n      <th>1</th>\n    </tr>\n  </thead>\n  <tbody>\n    <tr>\n      <th>0</th>\n      <td>Bow_Pose_or_Dhanurasana_/686.jpg</td>\n      <td>https://chevaun.com/wp-content/uploads/2017/10...</td>\n    </tr>\n    <tr>\n      <th>1</th>\n      <td>Bow_Pose_or_Dhanurasana_/685.jpg</td>\n      <td>http://bananabloom.com/wp-content/uploads/2016...</td>\n    </tr>\n    <tr>\n      <th>2</th>\n      <td>Bow_Pose_or_Dhanurasana_/684.jpg</td>\n      <td>https://www.airheadsup.com/assets/images/Kelli...</td>\n    </tr>\n    <tr>\n      <th>3</th>\n      <td>Bow_Pose_or_Dhanurasana_/682.jpg</td>\n      <td>http://mugup.info/appimg/Yoga/Dhanurasana.jpg</td>\n    </tr>\n    <tr>\n      <th>4</th>\n      <td>Bow_Pose_or_Dhanurasana_/681.jpg</td>\n      <td>https://images.freeart.com/comp/art-print/fa15...</td>\n    </tr>\n  </tbody>\n</table>\n</div>"
     },
     "metadata": {},
     "execution_count": 2
    }
   ],
   "source": [
    "srcpath = \"..\\data\\Yoga-82\\Yoga-82\\yoga_dataset_links\\Bow_Pose_or_Dhanurasana_.txt\"\n",
    "df = pd.read_csv(srcpath, sep='\\t', header=None)\n",
    "try:\n",
    "    os.mkdir(df.iloc[0][0].split('/')[0])\n",
    "except:\n",
    "    pass\n",
    "dirname = df.iloc[0][0].split('/')[0]\n",
    "corrupted_files = []\n",
    "df.head()"
   ]
  },
  {
   "cell_type": "code",
   "execution_count": 3,
   "metadata": {},
   "outputs": [
    {
     "output_type": "display_data",
     "data": {
      "text/plain": "HBox(children=(HTML(value=''), FloatProgress(value=0.0, max=336.0), HTML(value='')))",
      "application/vnd.jupyter.widget-view+json": {
       "version_major": 2,
       "version_minor": 0,
       "model_id": "1794811715b841c6951890c4bdc5785a"
      }
     },
     "metadata": {}
    },
    {
     "output_type": "stream",
     "name": "stdout",
     "text": [
      "\n"
     ]
    }
   ],
   "source": [
    "for i in tqdm(range(len(df))):\n",
    "    try:\n",
    "        url = df.iloc[i][1]\n",
    "        filename = df.iloc[i][0].split('/')[1]\n",
    "        r = requests.get(url)\n",
    "\n",
    "        header = r.headers\n",
    "        content_type = header.get('content-type')\n",
    "        if 'text' in content_type.lower():\n",
    "            raise RuntimeError\n",
    "        if 'html' in content_type.lower():\n",
    "            raise RuntimeError\n",
    "\n",
    "        if r.status_code == 200:\n",
    "            with open(f\"./{dirname}/{filename}\", \"wb\") as f:\n",
    "                f.write(r.content)    \n",
    "        else:\n",
    "            raise RuntimeError\n",
    "    except:\n",
    "        corrupted_files.append(i)\n",
    "\n",
    "pd.DataFrame(corrupted_files).to_csv(f\"{dirname}-corr_files.csv\", index=False, header=False)"
   ]
  },
  {
   "cell_type": "code",
   "execution_count": 12,
   "metadata": {},
   "outputs": [],
   "source": [
    "# for i in tqdm(corrupted_files):\n",
    "#     try: \n",
    "#         url = df.iloc[i][1]\n",
    "#         filename = df.iloc[i][0].split('/')[1]\n",
    "#         r = requests.get(url)\n",
    "\n",
    "#         header = r.headers\n",
    "#         content_type = header.get('content-type')\n",
    "\n",
    "#         with open(f\"./{dirname}/{filename}\", \"wb\") as f:\n",
    "#             f.write(r.content)    \n",
    "#     except:\n",
    "#         print(df.iloc[i])"
   ]
  },
  {
   "cell_type": "code",
   "execution_count": null,
   "metadata": {},
   "outputs": [],
   "source": []
  }
 ]
}