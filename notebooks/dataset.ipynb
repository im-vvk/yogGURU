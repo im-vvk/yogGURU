{
 "metadata": {
  "language_info": {
   "codemirror_mode": {
    "name": "ipython",
    "version": 3
   },
   "file_extension": ".py",
   "mimetype": "text/x-python",
   "name": "python",
   "nbconvert_exporter": "python",
   "pygments_lexer": "ipython3",
   "version": "3.8.5-final"
  },
  "orig_nbformat": 2,
  "kernelspec": {
   "name": "python385jvsc74a57bd017d519cd7b2137489e7f6d58ab7c9e086eaf73f702abf9bb059dfcc452bdee66",
   "display_name": "Python 3.8.5 64-bit (conda)"
  }
 },
 "nbformat": 4,
 "nbformat_minor": 2,
 "cells": [
  {
   "cell_type": "code",
   "execution_count": null,
   "metadata": {},
   "outputs": [],
   "source": [
    "import pandas as pd\n",
    "import requests\n",
    "from tqdm.notebook import tqdm\n",
    "import os"
   ]
  },
  {
   "cell_type": "code",
   "execution_count": null,
   "metadata": {},
   "outputs": [],
   "source": [
    "srcpath = \"..\\data\\Yoga-82\\Yoga-82\\yoga_dataset_links\\Bow_Pose_or_Dhanurasana_.txt\"\n",
    "df = pd.read_csv(srcpath, sep='\\t', header=None)\n",
    "try:\n",
    "    os.mkdir(df.iloc[0][0].split('/')[0])\n",
    "except:\n",
    "    pass\n",
    "dirname = df.iloc[0][0].split('/')[0]\n",
    "corrupted_files = []\n",
    "df.head()"
   ]
  },
  {
   "cell_type": "code",
   "execution_count": null,
   "metadata": {},
   "outputs": [],
   "source": [
    "for i in tqdm(range(len(df))):\n",
    "    try:\n",
    "        url = df.iloc[i][1]\n",
    "        filename = df.iloc[i][0].split('/')[1]\n",
    "        r = requests.get(url)\n",
    "\n",
    "        header = r.headers\n",
    "        content_type = header.get('content-type')\n",
    "        if 'text' in content_type.lower():\n",
    "            raise RuntimeError\n",
    "        if 'html' in content_type.lower():\n",
    "            raise RuntimeError\n",
    "\n",
    "        if (r.status_code)//100 == 2:\n",
    "            with open(f\"./{dirname}/{filename}\", \"wb\") as f:\n",
    "                f.write(r.content)    \n",
    "        else:\n",
    "            raise RuntimeError\n",
    "    except:\n",
    "        corrupted_files.append(i)\n",
    "\n",
    "pd.DataFrame(corrupted_files).to_csv(f\"{dirname}-corr_files.csv\", index=False, header=False)"
   ]
  },
  {
   "cell_type": "code",
   "execution_count": null,
   "metadata": {},
   "outputs": [],
   "source": [
    "# for i in tqdm(corrupted_files):\n",
    "#     try: \n",
    "#         url = df.iloc[i][1]\n",
    "#         filename = df.iloc[i][0].split('/')[1]\n",
    "#         r = requests.get(url)\n",
    "\n",
    "#         header = r.headers\n",
    "#         content_type = header.get('content-type')\n",
    "\n",
    "#         with open(f\"./{dirname}/{filename}\", \"wb\") as f:\n",
    "#             f.write(r.content)    \n",
    "#     except:\n",
    "#         print(df.iloc[i])"
   ]
  },
  {
   "cell_type": "code",
   "execution_count": null,
   "metadata": {},
   "outputs": [],
   "source": []
  }
 ]
}